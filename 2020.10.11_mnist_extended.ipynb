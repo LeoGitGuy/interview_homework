{
 "cells": [
  {
   "cell_type": "markdown",
   "metadata": {},
   "source": [
    "# MNIST Extended: A simple dataset for image segmentation and object localisation\n",
    "\n",
    "Most open source datasets for computer vision are huge and complex. Building a model from scratch using ImageNet or Coco is impossible without days of training on specialised hardware such as GPUs or TPUs. I've often found myself in need of a simple and small dataset to test model architectures. I don't always have a GPU available and I don't want to wait hours for the results of my experiments.\n",
    "For image classification I often use MNIST. It's an incredibly useful dataset of small digts (if you're not familiar with it don't worry, we'll see what it looks like soon.). However, in its raw form it's really only useful for image classification tasks. For more complex tasks such as semantic segmentation and object detection I created MNIST extended. A dataset as simple as MNIST but that can be used for more than just image classification. In this post, I will describe how to use MNIST extended and share a few details on the simple code that is used to generate it.\n",
    "\n",
    "This dataset is used in my \"Simple deep learning\" series:\n",
    "- LINK\n",
    "\n",
    "This post won't go into the details of how the dataset is created, rather we'll focus on what the dataset is composed of. However, the code is very well documented and easy to understand. You can find all the functions used here in my MNIST extended package on github LINK."
   ]
  },
  {
   "cell_type": "markdown",
   "metadata": {},
   "source": [
    "# MNIST\n",
    "\n",
    "MNIST is a dataset of handwritten digits.\n",
    "The original dataset can be downloaded from [Yann Lecun's website](http://yann.lecun.com/exdb/mnist/).\n",
    "However, we do not need to download the data from there since we will be using a Keras function to do that for us. This dataset forms the base of both the image\n",
    "segmentation and object detection components of MNIST extended. Downloading MNIST is as simple as running."
   ]
  },
  {
   "cell_type": "code",
   "execution_count": 1,
   "metadata": {},
   "outputs": [
    {
     "name": "stdout",
     "output_type": "stream",
     "text": [
      "(60000, 28, 28) (60000,)\n",
      "(10000, 28, 28) (10000,)\n"
     ]
    }
   ],
   "source": [
    "import tensorflow as tf\n",
    "\n",
    "(train_images, train_labels), (test_images, test_labels) = tf.keras.datasets.mnist.load_data()\n",
    "\n",
    "print(train_images.shape, train_labels.shape)\n",
    "print(test_images.shape, test_labels.shape)"
   ]
  },
  {
   "cell_type": "markdown",
   "metadata": {},
   "source": [
    "As you can see, there are 70000 images in total. Let's display a few just to get an idea of what MNIST looks like."
   ]
  },
  {
   "cell_type": "code",
   "execution_count": 2,
   "metadata": {},
   "outputs": [
    {
     "data": {
      "image/png": "[encoded data removed]",
      "text/plain": [
       "<Figure size 720x576 with 20 Axes>"
      ]
     },
     "metadata": {},
     "output_type": "display_data"
    }
   ],
   "source": [
    "from simple_deep_learning.mnist_extended.mnist import display_digits\n",
    "\n",
    "display_digits(images=train_images, labels=train_labels, num_to_display=20)"
   ]
  },
  {
   "cell_type": "markdown",
   "metadata": {},
   "source": [
    "These digits for the base of MNIST extended. Let's see how we can turn those single digit images into a semantic segmentation dataset."
   ]
  },
  {
   "cell_type": "markdown",
   "metadata": {},
   "source": [
    "# Semantic segmentation"
   ]
  },
  {
   "cell_type": "markdown",
   "metadata": {},
   "source": [
    "Semantic segmentation is the task of assigning a label to each pixel of an images.\n",
    "It can be seen as a an image classification task, except that instead of classifying the whole image, you're classifying each pixel individually.\n",
    "\n",
    "This input image is created by randomly overlaying digits from the original MNIST dataset on a empty array. The target array is of shape (height, width, num_classes), this corresponds to an output for which each pixel has a class as opposed to having a single class for the whole image.\n",
    "\n",
    "Let's take a look at what this might look like. We'll generate images of height and width 60 pixels and choose digits 0-4 (i.e num_classes = 5).\n",
    "Here we're just going to use the basic parameters of the create_semantic_segmentation_datase. For more customisation, take a look at the documented code or or read the \"Customisation\" section at the end of the article."
   ]
  },
  {
   "cell_type": "code",
   "execution_count": 3,
   "metadata": {},
   "outputs": [],
   "source": [
    "import numpy as np\n",
    "np.random.seed(seed=9)\n",
    "\n",
    "from simple_deep_learning.mnist_extended.semantic_segmentation import create_semantic_segmentation_dataset, display_segmented_image, display_grayscale_array, plot_class_masks\n",
    "\n",
    "train_x, train_y, test_x, test_y = create_semantic_segmentation_dataset(num_train_samples=100,\n",
    "                                                                        num_test_samples=10,\n",
    "                                                                        image_shape=(60, 60),\n",
    "                                                                        num_classes=5)"
   ]
  },
  {
   "cell_type": "markdown",
   "metadata": {},
   "source": [
    "Randomly select a example from the dataset and check the shapes. As you can see, the input is of shape (height, width, 1) which is expected. The input is a simple grayscale image.\n",
    "The output is of shape (height, width, num_classes), there is one channel per class. We'll see what each channel contains when we display the images."
   ]
  },
  {
   "cell_type": "code",
   "execution_count": 4,
   "metadata": {},
   "outputs": [
    {
     "name": "stdout",
     "output_type": "stream",
     "text": [
      "(60, 60, 1)\n",
      "(60, 60, 5)\n"
     ]
    }
   ],
   "source": [
    "import numpy as np\n",
    "\n",
    "i = np.random.randint(len(train_x))\n",
    "print(train_x[i].shape)\n",
    "print(train_y[i].shape)"
   ]
  },
  {
   "cell_type": "markdown",
   "metadata": {},
   "source": [
    "The following code displays the input image, as already mentioned, this is simply the original digits of MNIST randomly overlayed on a blank canvas."
   ]
  },
  {
   "cell_type": "code",
   "execution_count": 5,
   "metadata": {},
   "outputs": [
    {
     "data": {
      "image/png": "[encoded data removed]",
      "text/plain": [
       "<Figure size 432x432 with 1 Axes>"
      ]
     },
     "metadata": {},
     "output_type": "display_data"
    }
   ],
   "source": [
    "from simple_deep_learning.mnist_extended.semantic_segmentation import display_grayscale_array\n",
    "\n",
    "i = np.random.randint(len(train_x))\n",
    "display_grayscale_array(array=train_x[i])"
   ]
  },
  {
   "cell_type": "markdown",
   "metadata": {},
   "source": [
    "The target class is a lot more interesting. The target array has a 3rd dimension of length equal to the number of classes to predict. That is, if our input images are composed of MNIST digits 0-4, then our target array will have a shape (width, height, 5).\n",
    "\n",
    "In the following cell, we have a function that indexes the target array along the third axis (the classes axis) and displays each slice individually. "
   ]
  },
  {
   "cell_type": "code",
   "execution_count": 6,
   "metadata": {},
   "outputs": [
    {
     "data": {
      "image/png": "[encoded data removed]",
      "text/plain": [
       "<Figure size 1440x288 with 5 Axes>"
      ]
     },
     "metadata": {},
     "output_type": "display_data"
    }
   ],
   "source": [
    "from simple_deep_learning.mnist_extended.semantic_segmentation import plot_class_masks\n",
    "plot_class_masks(train_y[i])"
   ]
  },
  {
   "cell_type": "markdown",
   "metadata": {},
   "source": [
    "Each slice contains only one type of digit. In our case, the input image is composed of 2 twos and 2 fours, therefore the target array has 2 twos at slice 2 and 2 fours at slice 4.\n",
    "\n",
    "It's by separating the digits of a certain class into different slices that we tell our model which pixels correspond to which class. When training a model, we want it to be able to separate pixels of the original image into their respective slice.\n",
    "\n",
    "By default, in our dataset, classes are not exclusive. That means a pixel can part of more than one digit at a time. This will affect our loss function when building models but is not particularly important. If you want exclusive classes, you can set labels_are_exclusive=True in the create_semantic_segmentation_dataset function, in which case for pixels from multiple digits will only have one class, selected at random.\n",
    "\n",
    "Below is another way of displaying the digits. This time instead of separting the slices, we give each slice a particular colour. Here's what that looks like:"
   ]
  },
  {
   "cell_type": "code",
   "execution_count": 7,
   "metadata": {},
   "outputs": [
    {
     "data": {
      "image/png": "[encoded data removed]",
      "text/plain": [
       "<Figure size 432x432 with 1 Axes>"
      ]
     },
     "metadata": {},
     "output_type": "display_data"
    }
   ],
   "source": [
    "from simple_deep_learning.mnist_extended.semantic_segmentation import display_grayscale_array\n",
    "display_segmented_image(y=train_y[i])"
   ]
  },
  {
   "cell_type": "markdown",
   "metadata": {},
   "source": [
    "That's it for the basic infomation on the semantic segmentation dataset. If you want an example of how this dataset is used to train a neural network for image segmentation, checkout my tutorial: ..."
   ]
  },
  {
   "cell_type": "markdown",
   "metadata": {},
   "source": [
    "## Object detection\n",
    "\n",
    "Object detection is the task of drawing a bounding box around objects of interest. The input data for the object detection problem is exactly the same as for the semantic segmentation. The target however is different. Instead of classifying each pixel, we want to output the coordinates of a bounding box and a class label for each predicted bounding box.\n",
    "\n",
    "Generating the target for an object detection task is more complicated than for semantic segmentation. Different models use different target arrays. To remain generic, I have decided to output the bounding boxes and labels as lists. This cannot be used directly as a target for machine learning models but can be processed to produce a suitable target array for a given model."
   ]
  },
  {
   "cell_type": "code",
   "execution_count": 8,
   "metadata": {},
   "outputs": [],
   "source": [
    "from simple_deep_learning.mnist_extended.object_detection import create_object_detection_dataset    \n",
    "\n",
    "train_x, train_bounding_boxes, train_labels, test_x, test_bounding_boxes, test_labels = create_object_detection_dataset(\n",
    "    num_train_samples=100, num_test_samples=10, image_shape=(60, 60))\n"
   ]
  },
  {
   "cell_type": "markdown",
   "metadata": {},
   "source": [
    "The input array (i.e x) is in the same format as for semantic segmentation."
   ]
  },
  {
   "cell_type": "code",
   "execution_count": 9,
   "metadata": {},
   "outputs": [
    {
     "data": {
      "image/png": "[encoded data removed]",
      "text/plain": [
       "<Figure size 432x432 with 1 Axes>"
      ]
     },
     "metadata": {},
     "output_type": "display_data"
    }
   ],
   "source": [
    "from simple_deep_learning.mnist_extended.semantic_segmentation import display_grayscale_array\n",
    "\n",
    "i = np.random.randint(len(train_x))\n",
    "display_grayscale_array(array=train_x[i])"
   ]
  },
  {
   "cell_type": "markdown",
   "metadata": {},
   "source": [
    "Let's take a look at the bounding boxes and labels."
   ]
  },
  {
   "cell_type": "code",
   "execution_count": 10,
   "metadata": {},
   "outputs": [
    {
     "name": "stdout",
     "output_type": "stream",
     "text": [
      "[[ 9  2 37 30]\n",
      " [27 11 55 39]]\n",
      "[4 1]\n"
     ]
    }
   ],
   "source": [
    "print(train_bounding_boxes[i])\n",
    "print(train_labels[i])"
   ]
  },
  {
   "cell_type": "markdown",
   "metadata": {},
   "source": [
    "We see the (xmin, ymin, xmax, ymax) coordinates of each boundng box, as well as the associated label. As mentioned before, this cannot directly be used as a target because different images have a different number of bounding boxes and the output of most neural networks (e.g excluding RNN) is of fixed size for an input of a given size. For anyone interested in how to contruct the target for an object detection model, I recommend checking the architecture of single shot detection (SSD) models. They are very comonly used and relatively simple.\n",
    "\n",
    "I have created a function to draw the bounding boxes on the array and return a PIL image. Here we reize the image to improve the display."
   ]
  },
  {
   "cell_type": "code",
   "execution_count": 11,
   "metadata": {},
   "outputs": [
    {
     "data": {
      "image/png": "[encoded data removed]",
      "text/plain": [
       "<PIL.Image.Image image mode=L size=300x300 at 0x7FF207912C10>"
      ]
     },
     "execution_count": 11,
     "metadata": {},
     "output_type": "execute_result"
    }
   ],
   "source": [
    "from simple_deep_learning.mnist_extended.object_detection import draw_bounding_boxes\n",
    "\n",
    "draw_bounding_boxes(train_x[i], bounding_boxes=train_bounding_boxes[i], labels=train_labels[i]).resize((300, 300))"
   ]
  },
  {
   "cell_type": "markdown",
   "metadata": {},
   "source": [
    "## Customisation"
   ]
  },
  {
   "cell_type": "markdown",
   "metadata": {},
   "source": [
    "So far we've only used the main parameters of create dataset functions. I recommend checking the code to find how to change things such as the maximum number of digits per image, the maximum IOU (intersection of union) of two digits in the same image and more.\n",
    "\n",
    "In this post, we've been using the end to end functions create_semantic_segmentation_dataset and create_object_detection_dataset.\n",
    "\n",
    "These perform the folling tasks:\n",
    "- Downloading of the dataset\n",
    "- Preprocess the original MNIST images\n",
    "- Overlay the MNIST digits to create the new input image.\n",
    "- Create the target/output arrays.\n",
    "\n",
    "These components are all part of the MNIST extended package and are very modular. This provides you with a lot of freedom to customise the dataset as you would like. For instance, if you want to perform additional preprocessing on the original MNIST digits, that's totally possible. You might want modify the digits by randomly changing their size, in which case you can use the individual functions for downloading and preprocessing the MNIST digits (LINK TO PYTHON MODULE). Then you can add a function to modify their size and finally feed the modified images and labels into the create_object_detection_data_from_digits (LINK) or create_semantic_segmentation_data_from_digits(LINK)."
   ]
  },
  {
   "cell_type": "markdown",
   "metadata": {},
   "source": [
    "I hope you have a lot of fun playing around with this dataset. I've certainly found it very useful for experimenting with model architectures and learning about deep learning more generally. I would love to hear what you've done with the dataset so please post a comment below or send me a message via LinkedIn!\n",
    "\n",
    "Have a great day.\n",
    "\n",
    "Luke"
   ]
  }
 ],
 "metadata": {
  "kernelspec": {
   "display_name": "Python 3",
   "language": "python",
   "name": "python3"
  },
  "language_info": {
   "codemirror_mode": {
    "name": "ipython",
    "version": 3
   },
   "file_extension": ".py",
   "mimetype": "text/x-python",
   "name": "python",
   "nbconvert_exporter": "python",
   "pygments_lexer": "ipython3",
   "version": "3.7.9"
  }
 },
 "nbformat": 4,
 "nbformat_minor": 4
}

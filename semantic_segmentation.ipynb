{
 "cells": [
  {
   "cell_type": "markdown",
   "metadata": {},
   "source": [
    "# A simple example of semantic segmentation\n",
    "\n",
    "The field of deep learning is vast. The sheer number of publications on the subject is enough to make anyone overwheled. In the series \"Simple deep learning\" we'll be taking a step back. We'll forget about the latest tips and tricks that are pushing the state of the art. Instead, through the use of simple datasets and toy problems, we'll explore the basis of deep learning to give you a better understanding of the big picture.\n",
    "\n",
    "This post is about semantic segmentation. This is the task of assigning a label to each pixel of an images. It can be seen as a an image classification task, except that instead of classifying the whole image, you're classifying each pixel individually. From this perspective, semantic segmentation is actually very simple. Let's see how we can build a model using Keras to perform semantic segmentation.\n",
    "\n",
    "This tutorial is posted on my blog and in my github repository.\n",
    "You can find the github version with all the code at:\n",
    "The website version is at: \n",
    "\n",
    "We're going to use MNIST extended, a toy dataset I created that's excellent for exploring and playing around deep learning models. In this post, we won't look into how the data is generated, for more information on that, you can checkout my post : ...."
   ]
  },
  {
   "cell_type": "markdown",
   "metadata": {},
   "source": [
    "Let's start by importing a few packages. I've printed the version numbers of the packages we're importing. We'll only be using very simple features, so any version of tensorflow 2 should work, and any reasonably recent versions of numpy and matplotlib should be fine."
   ]
  },
  {
   "cell_type": "code",
   "execution_count": 1,
   "metadata": {},
   "outputs": [
    {
     "name": "stdout",
     "output_type": "stream",
     "text": [
      "2.0.0\n",
      "3.1.1\n",
      "1.18.2\n"
     ]
    }
   ],
   "source": [
    "import tensorflow as tf\n",
    "from tensorflow.keras import datasets, layers, models\n",
    "import matplotlib\n",
    "from matplotlib import pyplot as plt\n",
    "import numpy as np\n",
    "\n",
    "# Configure background colour of plots. In jupyter notebook dark mode, this is sometimes helpful.\n",
    "plt.rcParams['figure.facecolor'] = 'white'\n",
    "\n",
    "print(tf.__version__, matplotlib.__version__, np.__version__, sep='\\n')"
   ]
  },
  {
   "cell_type": "markdown",
   "metadata": {},
   "source": [
    "## Dataset creation"
   ]
  },
  {
   "cell_type": "markdown",
   "metadata": {},
   "source": [
    "We're going to use the extended MNIST semantic segmentation dataset. This is a dataset I created for exporing image segmentation and object localisation tasks. If you want more details about how this dataset is created, check out my post called \"MNIST extended: A simple dataset of image segmentation and object localisation\". You if you don't want/need to know how I created the dataset, all you need to know is this:"
   ]
  },
  {
   "cell_type": "markdown",
   "metadata": {},
   "source": [
    "We need a dataset. Let's use MNIST, a database of handwritten digits and use Keras to download it."
   ]
  },
  {
   "cell_type": "code",
   "execution_count": 378,
   "metadata": {},
   "outputs": [],
   "source": [
    "tf.keras.backend.clear_session()\n",
    "model = models.Sequential()\n",
    "model.add(layers.Conv2D(16, (3, 3), activation='relu', input_shape=array_shape, padding='same'))\n",
    "model.add(layers.Conv2D(32, (3, 3), activation='relu', padding='same'))\n",
    "model.add(layers.MaxPooling2D((2, 2)))\n",
    "model.add(layers.Conv2D(64, (3, 3), activation='relu', padding='same'))\n",
    "model.add(layers.Conv2D(32, (3, 3), activation='relu', padding='same'))\n",
    "model.add(layers.MaxPooling2D((2, 2), padding='same'))\n",
    "model.add(layers.Conv2D(32, (3, 3), activation='relu', padding='same'))\n",
    "model.add(layers.Conv2D(32, (3, 3), activation='relu', padding='same'))\n",
    "model.add(layers.UpSampling2D(size=(2, 2)))\n",
    "model.add(layers.Conv2D(16, (3, 3), activation='relu', padding='same'))\n",
    "model.add(layers.Conv2D(16, (3, 3), activation='relu', padding='same'))\n",
    "model.add(layers.UpSampling2D(size=(2, 2)))\n",
    "model.add(layers.Conv2D(3, (3, 3), activation='sigmoid', padding='same'))"
   ]
  },
  {
   "cell_type": "code",
   "execution_count": 379,
   "metadata": {},
   "outputs": [
    {
     "name": "stdout",
     "output_type": "stream",
     "text": [
      "Model: \"sequential\"\n",
      "_________________________________________________________________\n",
      "Layer (type)                 Output Shape              Param #   \n",
      "=================================================================\n",
      "conv2d (Conv2D)              (None, 60, 60, 16)        160       \n",
      "_________________________________________________________________\n",
      "conv2d_1 (Conv2D)            (None, 60, 60, 32)        4640      \n",
      "_________________________________________________________________\n",
      "max_pooling2d (MaxPooling2D) (None, 30, 30, 32)        0         \n",
      "_________________________________________________________________\n",
      "conv2d_2 (Conv2D)            (None, 30, 30, 64)        18496     \n",
      "_________________________________________________________________\n",
      "conv2d_3 (Conv2D)            (None, 30, 30, 32)        18464     \n",
      "_________________________________________________________________\n",
      "max_pooling2d_1 (MaxPooling2 (None, 15, 15, 32)        0         \n",
      "_________________________________________________________________\n",
      "conv2d_4 (Conv2D)            (None, 15, 15, 32)        9248      \n",
      "_________________________________________________________________\n",
      "conv2d_5 (Conv2D)            (None, 15, 15, 32)        9248      \n",
      "_________________________________________________________________\n",
      "up_sampling2d (UpSampling2D) (None, 30, 30, 32)        0         \n",
      "_________________________________________________________________\n",
      "conv2d_6 (Conv2D)            (None, 30, 30, 16)        4624      \n",
      "_________________________________________________________________\n",
      "conv2d_7 (Conv2D)            (None, 30, 30, 16)        2320      \n",
      "_________________________________________________________________\n",
      "up_sampling2d_1 (UpSampling2 (None, 60, 60, 16)        0         \n",
      "_________________________________________________________________\n",
      "conv2d_8 (Conv2D)            (None, 60, 60, 3)         435       \n",
      "=================================================================\n",
      "Total params: 67,635\n",
      "Trainable params: 67,635\n",
      "Non-trainable params: 0\n",
      "_________________________________________________________________\n"
     ]
    }
   ],
   "source": [
    "model.summary()"
   ]
  },
  {
   "cell_type": "code",
   "execution_count": 380,
   "metadata": {},
   "outputs": [
    {
     "name": "stdout",
     "output_type": "stream",
     "text": [
      "Train on 1000 samples, validate on 100 samples\n",
      "Epoch 1/20\n",
      "1000/1000 [==============================] - 10s 10ms/sample - loss: 0.3704 - binary_accuracy: 0.9078 - recall: 0.0534 - precision: 0.0143 - val_loss: 0.1042 - val_binary_accuracy: 0.9785 - val_recall: 0.0000e+00 - val_precision: 0.0000e+00\n",
      "Epoch 2/20\n",
      "1000/1000 [==============================] - 9s 9ms/sample - loss: 0.0684 - binary_accuracy: 0.9803 - recall: 0.0000e+00 - precision: 0.0000e+00 - val_loss: 0.0502 - val_binary_accuracy: 0.9785 - val_recall: 0.0000e+00 - val_precision: 0.0000e+00\n",
      "Epoch 3/20\n",
      "1000/1000 [==============================] - 10s 10ms/sample - loss: 0.0405 - binary_accuracy: 0.9803 - recall: 0.0000e+00 - precision: 0.0000e+00 - val_loss: 0.0392 - val_binary_accuracy: 0.9785 - val_recall: 0.0000e+00 - val_precision: 0.0000e+00\n",
      "Epoch 4/20\n",
      "1000/1000 [==============================] - 10s 10ms/sample - loss: 0.0329 - binary_accuracy: 0.9803 - recall: 0.0018 - precision: 0.9613 - val_loss: 0.0309 - val_binary_accuracy: 0.9785 - val_recall: 0.0596 - val_precision: 0.9665\n",
      "Epoch 5/20\n",
      "1000/1000 [==============================] - 12s 12ms/sample - loss: 0.0270 - binary_accuracy: 0.9801 - recall: 0.1321 - precision: 0.8720 - val_loss: 0.0266 - val_binary_accuracy: 0.9779 - val_recall: 0.2211 - val_precision: 0.8398\n",
      "Epoch 6/20\n",
      "1000/1000 [==============================] - 15s 15ms/sample - loss: 0.0247 - binary_accuracy: 0.9796 - recall: 0.2041 - precision: 0.8032 - val_loss: 0.0246 - val_binary_accuracy: 0.9776 - val_recall: 0.2949 - val_precision: 0.8328\n",
      "Epoch 7/20\n",
      "1000/1000 [==============================] - 13s 13ms/sample - loss: 0.0230 - binary_accuracy: 0.9795 - recall: 0.2670 - precision: 0.8158 - val_loss: 0.0235 - val_binary_accuracy: 0.9774 - val_recall: 0.3277 - val_precision: 0.8221\n",
      "Epoch 8/20\n",
      "1000/1000 [==============================] - 12s 12ms/sample - loss: 0.0219 - binary_accuracy: 0.9793 - recall: 0.3210 - precision: 0.8249 - val_loss: 0.0225 - val_binary_accuracy: 0.9778 - val_recall: 0.3312 - val_precision: 0.8597\n",
      "Epoch 9/20\n",
      "1000/1000 [==============================] - 15s 15ms/sample - loss: 0.0209 - binary_accuracy: 0.9793 - recall: 0.3549 - precision: 0.8351 - val_loss: 0.0216 - val_binary_accuracy: 0.9773 - val_recall: 0.3861 - val_precision: 0.8267\n",
      "Epoch 10/20\n",
      "1000/1000 [==============================] - 10s 10ms/sample - loss: 0.0202 - binary_accuracy: 0.9792 - recall: 0.3983 - precision: 0.8349 - val_loss: 0.0204 - val_binary_accuracy: 0.9779 - val_recall: 0.4140 - val_precision: 0.8850\n",
      "Epoch 11/20\n",
      "1000/1000 [==============================] - 12s 12ms/sample - loss: 0.0190 - binary_accuracy: 0.9795 - recall: 0.4329 - precision: 0.8652 - val_loss: 0.0191 - val_binary_accuracy: 0.9779 - val_recall: 0.4436 - val_precision: 0.8921\n",
      "Epoch 12/20\n",
      "1000/1000 [==============================] - 10s 10ms/sample - loss: 0.0176 - binary_accuracy: 0.9796 - recall: 0.5041 - precision: 0.8902 - val_loss: 0.0170 - val_binary_accuracy: 0.9783 - val_recall: 0.5241 - val_precision: 0.9314\n",
      "Epoch 13/20\n",
      "1000/1000 [==============================] - 10s 10ms/sample - loss: 0.0155 - binary_accuracy: 0.9800 - recall: 0.5735 - precision: 0.9245 - val_loss: 0.0149 - val_binary_accuracy: 0.9785 - val_recall: 0.6034 - val_precision: 0.9506\n",
      "Epoch 14/20\n",
      "1000/1000 [==============================] - 10s 10ms/sample - loss: 0.0140 - binary_accuracy: 0.9803 - recall: 0.6153 - precision: 0.9463 - val_loss: 0.0138 - val_binary_accuracy: 0.9787 - val_recall: 0.6484 - val_precision: 0.9637\n",
      "Epoch 15/20\n",
      "1000/1000 [==============================] - 10s 10ms/sample - loss: 0.0136 - binary_accuracy: 0.9803 - recall: 0.6342 - precision: 0.9503 - val_loss: 0.0141 - val_binary_accuracy: 0.9790 - val_recall: 0.5470 - val_precision: 0.9834\n",
      "Epoch 16/20\n",
      "1000/1000 [==============================] - 10s 10ms/sample - loss: 0.0127 - binary_accuracy: 0.9805 - recall: 0.6463 - precision: 0.9622 - val_loss: 0.0128 - val_binary_accuracy: 0.9787 - val_recall: 0.7256 - val_precision: 0.9601\n",
      "Epoch 17/20\n",
      "1000/1000 [==============================] - 10s 10ms/sample - loss: 0.0124 - binary_accuracy: 0.9805 - recall: 0.6609 - precision: 0.9631 - val_loss: 0.0120 - val_binary_accuracy: 0.9790 - val_recall: 0.6527 - val_precision: 0.9825\n",
      "Epoch 18/20\n",
      "1000/1000 [==============================] - 10s 10ms/sample - loss: 0.0115 - binary_accuracy: 0.9806 - recall: 0.6708 - precision: 0.9707 - val_loss: 0.0115 - val_binary_accuracy: 0.9789 - val_recall: 0.7228 - val_precision: 0.9736\n",
      "Epoch 19/20\n",
      "1000/1000 [==============================] - 10s 10ms/sample - loss: 0.0111 - binary_accuracy: 0.9806 - recall: 0.6828 - precision: 0.9731 - val_loss: 0.0111 - val_binary_accuracy: 0.9791 - val_recall: 0.6853 - val_precision: 0.9838\n",
      "Epoch 20/20\n",
      "1000/1000 [==============================] - 10s 10ms/sample - loss: 0.0108 - binary_accuracy: 0.9807 - recall: 0.6885 - precision: 0.9755 - val_loss: 0.0108 - val_binary_accuracy: 0.9790 - val_recall: 0.7060 - val_precision: 0.9835\n"
     ]
    }
   ],
   "source": [
    "model.compile(optimizer='adam',\n",
    "              loss=tf.keras.losses.BinaryCrossentropy(),\n",
    "              metrics=[tf.keras.metrics.BinaryAccuracy(),\n",
    "                       tf.keras.metrics.Recall(),\n",
    "                       tf.keras.metrics.Precision()])\n",
    "\n",
    "history = model.fit(train_x, train_y, epochs=20,\n",
    "                    validation_data=(test_x, test_y))"
   ]
  },
  {
   "cell_type": "code",
   "execution_count": 381,
   "metadata": {},
   "outputs": [],
   "source": [
    "test_y_predicted = model.predict(test_x)"
   ]
  },
  {
   "cell_type": "code",
   "execution_count": 472,
   "metadata": {},
   "outputs": [
    {
     "data": {
      "image/png": "[encoded data removed]",
      "text/plain": [
       "<Figure size 432x288 with 1 Axes>"
      ]
     },
     "metadata": {},
     "output_type": "display_data"
    },
    {
     "data": {
      "image/png": "[encoded data removed]",
      "text/plain": [
       "<Figure size 432x288 with 1 Axes>"
      ]
     },
     "metadata": {},
     "output_type": "display_data"
    },
    {
     "data": {
      "image/png": "[encoded data removed]",
      "text/plain": [
       "<Figure size 864x576 with 6 Axes>"
      ]
     },
     "metadata": {},
     "output_type": "display_data"
    }
   ],
   "source": [
    "from utils.semantic_segmentation import display_input_image, plot_class_masks, display_segmented_image\n",
    "plt.rcParams['figure.facecolor'] = 'white'\n",
    "\n",
    "i = np.random.randint(len(test_y_predicted))\n",
    "\n",
    "display_input_image(test_x[i])\n",
    "display_segmented_image(test_y_predicted[i])\n",
    "plot_class_masks(test_y[i], test_y_predicted[i])"
   ]
  }
 ],
 "metadata": {
  "kernelspec": {
   "display_name": "Python 3",
   "language": "python",
   "name": "python3"
  },
  "language_info": {
   "codemirror_mode": {
    "name": "ipython",
    "version": 3
   },
   "file_extension": ".py",
   "mimetype": "text/x-python",
   "name": "python",
   "nbconvert_exporter": "python",
   "pygments_lexer": "ipython3",
   "version": "3.7.9"
  }
 },
 "nbformat": 4,
 "nbformat_minor": 4
}
